{
 "cells": [
  {
   "cell_type": "code",
   "execution_count": 8,
   "id": "a16a4879-8d9e-4251-8ce7-19e00b19432c",
   "metadata": {},
   "outputs": [],
   "source": [
    "article = \"\"\" In a world often dominated by negativity, it's important to remember the power of kindness and \n",
    "compassion. Small acts of kindness have the ability to brighten someone's day, uplift spirits, and create a \n",
    "ripple effect of positivity that can spread far and wide. Whether it's a smile to a stranger, a helping hand \n",
    "to a friend in need, or a thoughtful gesture to a colleague, every act of kindness has the potential to make \n",
    "a difference in someone's life.Beyond individual actions, there is also immense power in collective efforts \n",
    "to create positive change. When communities come together to support one another, incredible things can happen. \n",
    "From grassroots initiatives to global movements, people are uniting to tackle pressing social and environmental issues, \n",
    "driving meaningful progress and inspiring hope for a better future.It's also important to recognize the strength that\n",
    "lies within each and every one of us. We all have the ability to make a positive impact, no matter how small our actions \n",
    "may seem. By tapping into our innate compassion and empathy, we can cultivate a culture of kindness and empathy that \n",
    "enriches our lives and those around us.So let's embrace the power of kindness, and strive to make the world a better place \n",
    "one small act at a time. Together, we can create a brighter, more compassionate future for all.\n",
    "\"\"\""
   ]
  },
  {
   "cell_type": "code",
   "execution_count": 9,
   "id": "f7b8d918-3fae-4774-89f1-ea07d61696a3",
   "metadata": {},
   "outputs": [],
   "source": [
    "## load local save tokenizer and model\n",
    "from transformers import AutoTokenizer, AutoModelForSeq2SeqLM\n",
    "\n",
    "tokenizer = AutoTokenizer.from_pretrained(\"./T5-ai-model\")\n",
    "\n",
    "# load local model\n",
    "model = AutoModelForSeq2SeqLM.from_pretrained(\"./T5-ai-model\")"
   ]
  },
  {
   "cell_type": "code",
   "execution_count": 10,
   "id": "54a028d0-f82c-48ce-a8c5-a0fd97beb994",
   "metadata": {},
   "outputs": [],
   "source": [
    "# Prepend the task prefix\n",
    "input_text = \"summarize: \" + article"
   ]
  },
  {
   "cell_type": "code",
   "execution_count": 11,
   "id": "55320ba4-e379-490a-b895-8d2b50b73706",
   "metadata": {},
   "outputs": [],
   "source": [
    "# Tokenize the input text\n",
    "input_ids = tokenizer.encode(input_text, return_tensors=\"pt\", max_length=512, truncation=True)"
   ]
  },
  {
   "cell_type": "code",
   "execution_count": 12,
   "id": "d5eb777d-748c-4ad5-beda-271dd2f68dba",
   "metadata": {},
   "outputs": [
    {
     "name": "stdout",
     "output_type": "stream",
     "text": [
      "Summary:\n",
      "Small acts of kindness have the ability to brighten someone's day, uplift spirits, and create a ripple effect of positivity. By tapping into our innate compassion and empathy, we can cultivate a culture of kindness and empathy that enriches our lives.\n"
     ]
    }
   ],
   "source": [
    "# Generate the summary\n",
    "summary_ids = model.generate(input_ids, max_length=130, min_length=30, length_penalty=2.0, num_beams=4, early_stopping=True)\n",
    "\n",
    "# Decode the summary\n",
    "summary = tokenizer.decode(summary_ids[0], skip_special_tokens=True)\n",
    "\n",
    "print(\"Summary:\")\n",
    "print(summary)"
   ]
  },
  {
   "cell_type": "code",
   "execution_count": null,
   "id": "62203842-1274-4488-b563-20a63c07898d",
   "metadata": {},
   "outputs": [],
   "source": []
  }
 ],
 "metadata": {
  "kernelspec": {
   "display_name": "Python 3 (ipykernel)",
   "language": "python",
   "name": "python3"
  },
  "language_info": {
   "codemirror_mode": {
    "name": "ipython",
    "version": 3
   },
   "file_extension": ".py",
   "mimetype": "text/x-python",
   "name": "python",
   "nbconvert_exporter": "python",
   "pygments_lexer": "ipython3",
   "version": "3.12.4"
  }
 },
 "nbformat": 4,
 "nbformat_minor": 5
}
